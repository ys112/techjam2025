{
 "cells": [
  {
   "cell_type": "markdown",
   "id": "342148ed",
   "metadata": {},
   "source": [
    "# 0. Import Libraries & Define Globals\n"
   ]
  },
  {
   "cell_type": "code",
   "execution_count": 130,
   "id": "e0dc9a03",
   "metadata": {},
   "outputs": [],
   "source": [
    "# ---------\n",
    "# importing\n",
    "# ---------\n",
    "\n",
    "import gzip\n",
    "import json\n",
    "import pandas as pd\n",
    "import numpy as np"
   ]
  },
  {
   "cell_type": "code",
   "execution_count": 131,
   "id": "a1128690",
   "metadata": {},
   "outputs": [],
   "source": [
    "# -----------------\n",
    "# global functions\n",
    "# -----------------\n",
    "def parse(path):\n",
    "    g = gzip.open(path, \"r\")\n",
    "    for l in g:\n",
    "        yield json.loads(l)"
   ]
  },
  {
   "cell_type": "code",
   "execution_count": 132,
   "id": "a7c5e141",
   "metadata": {},
   "outputs": [],
   "source": [
    "# ---------\n",
    "# constants\n",
    "# ---------\n",
    "FILE_PATH_1 = \"data_sources/review-South_Dakota_10.json.gz\"\n",
    "FILE_PATH_METADATA = \"data_sources/meta-South_Dakota.json.gz\""
   ]
  },
  {
   "cell_type": "markdown",
   "id": "88fbcb72",
   "metadata": {},
   "source": [
    "# 1. Read Data Sources\n"
   ]
  },
  {
   "cell_type": "code",
   "execution_count": 133,
   "id": "2e299a50",
   "metadata": {},
   "outputs": [
    {
     "data": {
      "text/html": [
       "<div>\n",
       "<style scoped>\n",
       "    .dataframe tbody tr th:only-of-type {\n",
       "        vertical-align: middle;\n",
       "    }\n",
       "\n",
       "    .dataframe tbody tr th {\n",
       "        vertical-align: top;\n",
       "    }\n",
       "\n",
       "    .dataframe thead th {\n",
       "        text-align: right;\n",
       "    }\n",
       "</style>\n",
       "<table border=\"1\" class=\"dataframe\">\n",
       "  <thead>\n",
       "    <tr style=\"text-align: right;\">\n",
       "      <th></th>\n",
       "      <th>business_name</th>\n",
       "      <th>reviewer_name</th>\n",
       "      <th>text</th>\n",
       "      <th>rating</th>\n",
       "      <th>category</th>\n",
       "    </tr>\n",
       "  </thead>\n",
       "  <tbody>\n",
       "    <tr>\n",
       "      <th>0</th>\n",
       "      <td>Haci'nin Yeri - Yigit Lokantasi</td>\n",
       "      <td>Gulsum Akar</td>\n",
       "      <td>We went to Marmaris with my wife for a holiday...</td>\n",
       "      <td>5</td>\n",
       "      <td>food</td>\n",
       "    </tr>\n",
       "    <tr>\n",
       "      <th>1</th>\n",
       "      <td>Haci'nin Yeri - Yigit Lokantasi</td>\n",
       "      <td>Oguzhan Cetin</td>\n",
       "      <td>During my holiday in Marmaris we ate here to f...</td>\n",
       "      <td>4</td>\n",
       "      <td>food</td>\n",
       "    </tr>\n",
       "    <tr>\n",
       "      <th>2</th>\n",
       "      <td>Haci'nin Yeri - Yigit Lokantasi</td>\n",
       "      <td>Yasin Kuyu</td>\n",
       "      <td>Prices are very affordable. The menu in the ph...</td>\n",
       "      <td>3</td>\n",
       "      <td>food</td>\n",
       "    </tr>\n",
       "    <tr>\n",
       "      <th>3</th>\n",
       "      <td>Haci'nin Yeri - Yigit Lokantasi</td>\n",
       "      <td>Orhan Kapu</td>\n",
       "      <td>Turkey's cheapest artisan restaurant and its f...</td>\n",
       "      <td>5</td>\n",
       "      <td>food</td>\n",
       "    </tr>\n",
       "    <tr>\n",
       "      <th>4</th>\n",
       "      <td>Haci'nin Yeri - Yigit Lokantasi</td>\n",
       "      <td>Ozgur Sati</td>\n",
       "      <td>I don't know what you will look for in terms o...</td>\n",
       "      <td>3</td>\n",
       "      <td>food</td>\n",
       "    </tr>\n",
       "  </tbody>\n",
       "</table>\n",
       "</div>"
      ],
      "text/plain": [
       "                     business_name  reviewer_name  \\\n",
       "0  Haci'nin Yeri - Yigit Lokantasi    Gulsum Akar   \n",
       "1  Haci'nin Yeri - Yigit Lokantasi  Oguzhan Cetin   \n",
       "2  Haci'nin Yeri - Yigit Lokantasi     Yasin Kuyu   \n",
       "3  Haci'nin Yeri - Yigit Lokantasi     Orhan Kapu   \n",
       "4  Haci'nin Yeri - Yigit Lokantasi     Ozgur Sati   \n",
       "\n",
       "                                                text  rating category  \n",
       "0  We went to Marmaris with my wife for a holiday...       5     food  \n",
       "1  During my holiday in Marmaris we ate here to f...       4     food  \n",
       "2  Prices are very affordable. The menu in the ph...       3     food  \n",
       "3  Turkey's cheapest artisan restaurant and its f...       5     food  \n",
       "4  I don't know what you will look for in terms o...       3     food  "
      ]
     },
     "execution_count": 133,
     "metadata": {},
     "output_type": "execute_result"
    }
   ],
   "source": [
    "# -----------------\n",
    "# read from kaggle\n",
    "# -----------------\n",
    "kaggle_df = pd.read_csv(\"data_sources/reviews.csv\")\n",
    "kaggle_rename_map = {\"author_name\": \"reviewer_name\", \"rating_category\": \"category\"}\n",
    "kaggle_df[\"rating_category\"] = \"food\"\n",
    "kaggle_df = kaggle_df.rename(columns=kaggle_rename_map)\n",
    "kaggle_df = kaggle_df.drop(columns=[\"photo\"])\n",
    "\n",
    "\n",
    "kaggle_df.head()"
   ]
  },
  {
   "cell_type": "code",
   "execution_count": 134,
   "id": "69e577e6",
   "metadata": {},
   "outputs": [
    {
     "data": {
      "text/html": [
       "<div>\n",
       "<style scoped>\n",
       "    .dataframe tbody tr th:only-of-type {\n",
       "        vertical-align: middle;\n",
       "    }\n",
       "\n",
       "    .dataframe tbody tr th {\n",
       "        vertical-align: top;\n",
       "    }\n",
       "\n",
       "    .dataframe thead th {\n",
       "        text-align: right;\n",
       "    }\n",
       "</style>\n",
       "<table border=\"1\" class=\"dataframe\">\n",
       "  <thead>\n",
       "    <tr style=\"text-align: right;\">\n",
       "      <th></th>\n",
       "      <th>business_name</th>\n",
       "      <th>reviewer_name</th>\n",
       "      <th>text</th>\n",
       "      <th>rating</th>\n",
       "      <th>category</th>\n",
       "      <th>avg_rating</th>\n",
       "      <th>num_of_reviews</th>\n",
       "    </tr>\n",
       "  </thead>\n",
       "  <tbody>\n",
       "    <tr>\n",
       "      <th>0</th>\n",
       "      <td>Haci'nin Yeri - Yigit Lokantasi</td>\n",
       "      <td>Gulsum Akar</td>\n",
       "      <td>We went to Marmaris with my wife for a holiday...</td>\n",
       "      <td>5</td>\n",
       "      <td>food</td>\n",
       "      <td>4.454545</td>\n",
       "      <td>11</td>\n",
       "    </tr>\n",
       "    <tr>\n",
       "      <th>1</th>\n",
       "      <td>Haci'nin Yeri - Yigit Lokantasi</td>\n",
       "      <td>Oguzhan Cetin</td>\n",
       "      <td>During my holiday in Marmaris we ate here to f...</td>\n",
       "      <td>4</td>\n",
       "      <td>food</td>\n",
       "      <td>4.454545</td>\n",
       "      <td>11</td>\n",
       "    </tr>\n",
       "    <tr>\n",
       "      <th>2</th>\n",
       "      <td>Haci'nin Yeri - Yigit Lokantasi</td>\n",
       "      <td>Yasin Kuyu</td>\n",
       "      <td>Prices are very affordable. The menu in the ph...</td>\n",
       "      <td>3</td>\n",
       "      <td>food</td>\n",
       "      <td>4.454545</td>\n",
       "      <td>11</td>\n",
       "    </tr>\n",
       "    <tr>\n",
       "      <th>3</th>\n",
       "      <td>Haci'nin Yeri - Yigit Lokantasi</td>\n",
       "      <td>Orhan Kapu</td>\n",
       "      <td>Turkey's cheapest artisan restaurant and its f...</td>\n",
       "      <td>5</td>\n",
       "      <td>food</td>\n",
       "      <td>4.454545</td>\n",
       "      <td>11</td>\n",
       "    </tr>\n",
       "    <tr>\n",
       "      <th>4</th>\n",
       "      <td>Haci'nin Yeri - Yigit Lokantasi</td>\n",
       "      <td>Ozgur Sati</td>\n",
       "      <td>I don't know what you will look for in terms o...</td>\n",
       "      <td>3</td>\n",
       "      <td>food</td>\n",
       "      <td>4.454545</td>\n",
       "      <td>11</td>\n",
       "    </tr>\n",
       "  </tbody>\n",
       "</table>\n",
       "</div>"
      ],
      "text/plain": [
       "                     business_name  reviewer_name  \\\n",
       "0  Haci'nin Yeri - Yigit Lokantasi    Gulsum Akar   \n",
       "1  Haci'nin Yeri - Yigit Lokantasi  Oguzhan Cetin   \n",
       "2  Haci'nin Yeri - Yigit Lokantasi     Yasin Kuyu   \n",
       "3  Haci'nin Yeri - Yigit Lokantasi     Orhan Kapu   \n",
       "4  Haci'nin Yeri - Yigit Lokantasi     Ozgur Sati   \n",
       "\n",
       "                                                text  rating category  \\\n",
       "0  We went to Marmaris with my wife for a holiday...       5     food   \n",
       "1  During my holiday in Marmaris we ate here to f...       4     food   \n",
       "2  Prices are very affordable. The menu in the ph...       3     food   \n",
       "3  Turkey's cheapest artisan restaurant and its f...       5     food   \n",
       "4  I don't know what you will look for in terms o...       3     food   \n",
       "\n",
       "   avg_rating  num_of_reviews  \n",
       "0    4.454545              11  \n",
       "1    4.454545              11  \n",
       "2    4.454545              11  \n",
       "3    4.454545              11  \n",
       "4    4.454545              11  "
      ]
     },
     "execution_count": 134,
     "metadata": {},
     "output_type": "execute_result"
    }
   ],
   "source": [
    "avg_ratings_business = kaggle_df.groupby('business_name')['rating'].mean()\n",
    "kaggle_df['avg_rating'] = kaggle_df['business_name'].map(avg_ratings_business)\n",
    "num_reviews_business = kaggle_df.groupby('business_name')['text'].count()\n",
    "kaggle_df['num_of_reviews'] = kaggle_df['business_name'].map(num_reviews_business)\n",
    "kaggle_df.head()"
   ]
  },
  {
   "cell_type": "code",
   "execution_count": 135,
   "id": "db477a03",
   "metadata": {},
   "outputs": [
    {
     "data": {
      "text/plain": [
       "(1100, 7)"
      ]
     },
     "execution_count": 135,
     "metadata": {},
     "output_type": "execute_result"
    }
   ],
   "source": [
    "kaggle_df.shape"
   ]
  },
  {
   "cell_type": "code",
   "execution_count": 136,
   "id": "f6e72b07",
   "metadata": {},
   "outputs": [
    {
     "data": {
      "text/html": [
       "<div>\n",
       "<style scoped>\n",
       "    .dataframe tbody tr th:only-of-type {\n",
       "        vertical-align: middle;\n",
       "    }\n",
       "\n",
       "    .dataframe tbody tr th {\n",
       "        vertical-align: top;\n",
       "    }\n",
       "\n",
       "    .dataframe thead th {\n",
       "        text-align: right;\n",
       "    }\n",
       "</style>\n",
       "<table border=\"1\" class=\"dataframe\">\n",
       "  <thead>\n",
       "    <tr style=\"text-align: right;\">\n",
       "      <th></th>\n",
       "      <th>reviewer_name</th>\n",
       "      <th>time</th>\n",
       "      <th>rating</th>\n",
       "      <th>text</th>\n",
       "      <th>business_name</th>\n",
       "      <th>description</th>\n",
       "      <th>latitude</th>\n",
       "      <th>longitude</th>\n",
       "      <th>category</th>\n",
       "      <th>num_of_reviews</th>\n",
       "      <th>price</th>\n",
       "    </tr>\n",
       "  </thead>\n",
       "  <tbody>\n",
       "    <tr>\n",
       "      <th>0</th>\n",
       "      <td>Peri Gray</td>\n",
       "      <td>1516122675780</td>\n",
       "      <td>5</td>\n",
       "      <td>Great place to care for our children.</td>\n",
       "      <td>CRST WIC Office</td>\n",
       "      <td>None</td>\n",
       "      <td>44.990878</td>\n",
       "      <td>-101.239919</td>\n",
       "      <td>None</td>\n",
       "      <td>8</td>\n",
       "      <td>None</td>\n",
       "    </tr>\n",
       "    <tr>\n",
       "      <th>1</th>\n",
       "      <td>Peri Gray</td>\n",
       "      <td>1516122675780</td>\n",
       "      <td>5</td>\n",
       "      <td>Great place to care for our children.</td>\n",
       "      <td>CRST WIC Office</td>\n",
       "      <td>None</td>\n",
       "      <td>44.990878</td>\n",
       "      <td>-101.239919</td>\n",
       "      <td>None</td>\n",
       "      <td>8</td>\n",
       "      <td>None</td>\n",
       "    </tr>\n",
       "    <tr>\n",
       "      <th>2</th>\n",
       "      <td>Suzy Berndt</td>\n",
       "      <td>1532922350314</td>\n",
       "      <td>5</td>\n",
       "      <td>Th sw y are so nice</td>\n",
       "      <td>CRST WIC Office</td>\n",
       "      <td>None</td>\n",
       "      <td>44.990878</td>\n",
       "      <td>-101.239919</td>\n",
       "      <td>None</td>\n",
       "      <td>8</td>\n",
       "      <td>None</td>\n",
       "    </tr>\n",
       "    <tr>\n",
       "      <th>3</th>\n",
       "      <td>Suzy Berndt</td>\n",
       "      <td>1532922350314</td>\n",
       "      <td>5</td>\n",
       "      <td>Th sw y are so nice</td>\n",
       "      <td>CRST WIC Office</td>\n",
       "      <td>None</td>\n",
       "      <td>44.990878</td>\n",
       "      <td>-101.239919</td>\n",
       "      <td>None</td>\n",
       "      <td>8</td>\n",
       "      <td>None</td>\n",
       "    </tr>\n",
       "    <tr>\n",
       "      <th>4</th>\n",
       "      <td>Rosemary Red Legs</td>\n",
       "      <td>1530969093932</td>\n",
       "      <td>5</td>\n",
       "      <td>Went with my daughter</td>\n",
       "      <td>CRST WIC Office</td>\n",
       "      <td>None</td>\n",
       "      <td>44.990878</td>\n",
       "      <td>-101.239919</td>\n",
       "      <td>None</td>\n",
       "      <td>8</td>\n",
       "      <td>None</td>\n",
       "    </tr>\n",
       "  </tbody>\n",
       "</table>\n",
       "</div>"
      ],
      "text/plain": [
       "       reviewer_name           time  rating  \\\n",
       "0          Peri Gray  1516122675780       5   \n",
       "1          Peri Gray  1516122675780       5   \n",
       "2        Suzy Berndt  1532922350314       5   \n",
       "3        Suzy Berndt  1532922350314       5   \n",
       "4  Rosemary Red Legs  1530969093932       5   \n",
       "\n",
       "                                    text    business_name description  \\\n",
       "0  Great place to care for our children.  CRST WIC Office        None   \n",
       "1  Great place to care for our children.  CRST WIC Office        None   \n",
       "2                    Th sw y are so nice  CRST WIC Office        None   \n",
       "3                    Th sw y are so nice  CRST WIC Office        None   \n",
       "4                  Went with my daughter  CRST WIC Office        None   \n",
       "\n",
       "    latitude   longitude category  num_of_reviews price  \n",
       "0  44.990878 -101.239919     None               8  None  \n",
       "1  44.990878 -101.239919     None               8  None  \n",
       "2  44.990878 -101.239919     None               8  None  \n",
       "3  44.990878 -101.239919     None               8  None  \n",
       "4  44.990878 -101.239919     None               8  None  "
      ]
     },
     "execution_count": 136,
     "metadata": {},
     "output_type": "execute_result"
    }
   ],
   "source": [
    "# -----------------\n",
    "# read south dakota\n",
    "# -----------------\n",
    "\n",
    "records = list(parse(FILE_PATH_1))\n",
    "df = pd.DataFrame(records)\n",
    "\n",
    "meta_data_records = list(parse(FILE_PATH_METADATA))\n",
    "metadata_df = pd.DataFrame(meta_data_records)\n",
    "\n",
    "\n",
    "google_location_df = pd.merge(\n",
    "    df, metadata_df, how=\"left\", on=[\"gmap_id\"], suffixes=[\"_x\", \"_y\"]\n",
    ")\n",
    "\n",
    "rename_map = {\n",
    "    \"name_x\": \"reviewer_name\",\n",
    "    \"name_y\": \"business_name\",\n",
    "}\n",
    "\n",
    "google_location_df = google_location_df.rename(columns=rename_map)\n",
    "google_location_df = google_location_df.drop(\n",
    "    columns=[\n",
    "        \"user_id\",\n",
    "        \"pics\",\n",
    "        \"resp\",\n",
    "        \"address\",\n",
    "        \"url\",\n",
    "        \"relative_results\",\n",
    "        \"MISC\",\n",
    "        \"state\",\n",
    "        \"hours\",\n",
    "        \"gmap_id\",\n",
    "        \"avg_rating\",\n",
    "    ]\n",
    ")\n",
    "\n",
    "\n",
    "google_location_df.head()"
   ]
  },
  {
   "cell_type": "code",
   "execution_count": 137,
   "id": "3b74a9b5",
   "metadata": {},
   "outputs": [
    {
     "data": {
      "text/plain": [
       "(673628, 11)"
      ]
     },
     "execution_count": 137,
     "metadata": {},
     "output_type": "execute_result"
    }
   ],
   "source": [
    "google_location_df.shape"
   ]
  },
  {
   "cell_type": "code",
   "execution_count": 138,
   "id": "6f9e3b93",
   "metadata": {},
   "outputs": [],
   "source": [
    "# Add missing columns from google_location_df to kaggle_df with NaN values\n",
    "for col in google_location_df.columns:\n",
    "    if col not in kaggle_df.columns:\n",
    "        kaggle_df[col] = None\n",
    "\n",
    "# Reorder kaggle_df columns to match google_location_df columns\n",
    "kaggle_df = kaggle_df[google_location_df.columns]"
   ]
  },
  {
   "cell_type": "markdown",
   "id": "764aa579",
   "metadata": {},
   "source": [
    "# 2. Finalised Schema\n"
   ]
  },
  {
   "cell_type": "code",
   "execution_count": 139,
   "id": "0b3fa86b",
   "metadata": {},
   "outputs": [
    {
     "name": "stderr",
     "output_type": "stream",
     "text": [
      "/var/folders/71/ljlh3xcn18gbcvg1hb44wqdh0000gn/T/ipykernel_19150/4089971974.py:2: FutureWarning: The behavior of DataFrame concatenation with empty or all-NA entries is deprecated. In a future version, this will no longer exclude empty or all-NA columns when determining the result dtypes. To retain the old behavior, exclude the relevant entries before the concat operation.\n",
      "  final_df = pd.concat([google_location_df, kaggle_df], ignore_index=True)\n"
     ]
    }
   ],
   "source": [
    "# Concatenate the two dataframes (union)\n",
    "final_df = pd.concat([google_location_df, kaggle_df], ignore_index=True)"
   ]
  },
  {
   "cell_type": "code",
   "execution_count": 140,
   "id": "31e02972",
   "metadata": {},
   "outputs": [
    {
     "data": {
      "text/plain": [
       "Index(['reviewer_name', 'time', 'rating', 'text', 'business_name',\n",
       "       'description', 'latitude', 'longitude', 'category', 'num_of_reviews',\n",
       "       'price'],\n",
       "      dtype='object')"
      ]
     },
     "execution_count": 140,
     "metadata": {},
     "output_type": "execute_result"
    }
   ],
   "source": [
    "final_df.columns"
   ]
  },
  {
   "cell_type": "code",
   "execution_count": 141,
   "id": "5e7f4ee2",
   "metadata": {},
   "outputs": [
    {
     "name": "stdout",
     "output_type": "stream",
     "text": [
      "<class 'pandas.core.frame.DataFrame'>\n",
      "RangeIndex: 674728 entries, 0 to 674727\n",
      "Data columns (total 11 columns):\n",
      " #   Column          Non-Null Count   Dtype  \n",
      "---  ------          --------------   -----  \n",
      " 0   reviewer_name   674728 non-null  object \n",
      " 1   time            673628 non-null  object \n",
      " 2   rating          674728 non-null  int64  \n",
      " 3   text            348468 non-null  object \n",
      " 4   business_name   674728 non-null  object \n",
      " 5   description     369935 non-null  object \n",
      " 6   latitude        673628 non-null  float64\n",
      " 7   longitude       673628 non-null  float64\n",
      " 8   category        674559 non-null  object \n",
      " 9   num_of_reviews  674728 non-null  int64  \n",
      " 10  price           362462 non-null  object \n",
      "dtypes: float64(2), int64(2), object(7)\n",
      "memory usage: 56.6+ MB\n"
     ]
    }
   ],
   "source": [
    "final_df.info()"
   ]
  }
 ],
 "metadata": {
  "kernelspec": {
   "display_name": "Python 3",
   "language": "python",
   "name": "python3"
  },
  "language_info": {
   "codemirror_mode": {
    "name": "ipython",
    "version": 3
   },
   "file_extension": ".py",
   "mimetype": "text/x-python",
   "name": "python",
   "nbconvert_exporter": "python",
   "pygments_lexer": "ipython3",
   "version": "3.11.8"
  }
 },
 "nbformat": 4,
 "nbformat_minor": 5
}
