{
 "cells": [
  {
   "cell_type": "markdown",
   "id": "42fe6539",
   "metadata": {},
   "source": [
    "# Data Pipeline for South Dakota Reviews\n",
    "This notebook processes and cleans review and business metadata for South Dakota."
   ]
  },
  {
   "cell_type": "code",
   "execution_count": null,
   "id": "5761d416",
   "metadata": {},
   "outputs": [],
   "source": [
    "# Import Libraries\n",
    "import gzip, json\n",
    "import pandas as pd"
   ]
  },
  {
   "cell_type": "code",
   "execution_count": null,
   "id": "965a57f9",
   "metadata": {},
   "outputs": [],
   "source": [
    "def parse(path):\n",
    "    with gzip.open(path, 'rt', encoding='utf-8') as g:\n",
    "        for line in g:\n",
    "            yield json.loads(line)"
   ]
  },
  {
   "cell_type": "markdown",
   "id": "6e3a73b6",
   "metadata": {},
   "source": [
    "## Load Data\n",
    "Load review and business metadata from gzipped JSON files."
   ]
  },
  {
   "cell_type": "code",
   "execution_count": null,
   "id": "d6ba36f5",
   "metadata": {},
   "outputs": [],
   "source": [
    "reviews_data = pd.read_json('review_South_Dakota.json.gz', lines=True, compression='gzip')\n",
    "reviews_data['user_id'] = reviews_data['user_id'].apply(lambda x: str(int(x)) if isinstance(x, float) and not pd.isnull(x) else str(x))\n",
    "biz_meta = pd.read_json('meta_South_Dakota.json.gz', lines=True, compression='gzip')\n",
    "\n",
    "# standardize columns\n",
    "biz_meta.columns = biz_meta.columns.str.lower().str.strip()\n",
    "reviews_data.columns = reviews_data.columns.str.lower().str.strip()"
   ]
  },
  {
   "cell_type": "code",
   "execution_count": null,
   "id": "adaee1fb",
   "metadata": {},
   "outputs": [],
   "source": [
    "print(reviews_data.isnull().sum())\n",
    "print(biz_meta.isnull().sum())\n",
    "print(biz_meta[\"state\"].unique())\n",
    "len(reviews_data)"
   ]
  },
  {
   "cell_type": "code",
   "execution_count": null,
   "id": "64361801",
   "metadata": {},
   "outputs": [],
   "source": [
    "print(reviews_data)\n",
    "print(biz_meta)"
   ]
  },
  {
   "cell_type": "markdown",
   "id": "9dd05e7c",
   "metadata": {},
   "source": [
    "## Data Cleaning\n",
    "Clean review and business metadata."
   ]
  },
  {
   "cell_type": "code",
   "execution_count": null,
   "id": "0f077e72",
   "metadata": {},
   "outputs": [],
   "source": [
    "# 1. cleaning of review data\n",
    "\n",
    "# these columns are IMPT\n",
    "reviews_data = reviews_data.dropna(subset=['rating', 'time', 'gmap_id', 'user_id'])\n",
    "\n",
    "# Convert selected columns to string dtype\n",
    "for col in ['user_name', 'user_id', 'text', 'gmap_id']:\n",
    "    if col in reviews_data.columns:\n",
    "        reviews_data[col] = reviews_data[col].astype(str)\n",
    "\n",
    "reviews_data[\"time\"] = pd.to_datetime(reviews_data[\"time\"], unit=\"ms\", utc=True)\n",
    "\n",
    "is_dict = reviews_data[\"resp\"].map(lambda x: isinstance(x, dict))\n",
    "reviews_data[\"has_resp\"]  = is_dict.fillna(False)\n",
    "reviews_data[\"resp_text\"] = reviews_data[\"resp\"].where(is_dict).map(lambda d: d.get(\"text\") if isinstance(d, dict) else None).astype(\"string\")\n",
    "reviews_data[\"resp_time\"] = pd.to_datetime(\n",
    "    reviews_data[\"resp\"].where(is_dict).map(lambda d: d.get(\"time\") if isinstance(d, dict) else None),\n",
    "    unit=\"ms\", utc=True, errors=\"coerce\"\n",
    ")\n",
    "\n",
    "# Presence-only (True if not null, False if null)\n",
    "reviews_data['pics'] = reviews_data['pics'].notna()\n",
    "\n",
    "reviews_data = reviews_data.rename(columns={'name': 'user_name', 'time': 'review_time', 'text': 'review_text'})\n"
   ]
  },
  {
   "cell_type": "code",
   "execution_count": null,
   "id": "c9b36f46",
   "metadata": {},
   "outputs": [],
   "source": [
    "# Check for user_id precision loss due to float conversion\n",
    "float_ids = reviews_data['user_id'].apply(lambda x: isinstance(x, float) and ('.' in str(x) or 'e' in str(x)))\n",
    "if float_ids.any():\n",
    "    print('Warning: Some user_id values may have lost precision due to float conversion:')\n",
    "    print(reviews_data[float_ids]['user_id'])\n",
    "else:\n",
    "    print('No user_id precision loss detected.')"
   ]
  },
  {
   "cell_type": "code",
   "execution_count": null,
   "id": "696f8ad3",
   "metadata": {},
   "outputs": [],
   "source": [
    "reviews_data"
   ]
  },
  {
   "cell_type": "code",
   "execution_count": null,
   "id": "76e66375",
   "metadata": {},
   "outputs": [],
   "source": [
    "print(reviews_data.dtypes)"
   ]
  },
  {
   "cell_type": "code",
   "execution_count": null,
   "id": "f00dbb64",
   "metadata": {},
   "outputs": [],
   "source": [
    "# 2. cleaning of biz meta data\n",
    "biz_meta = biz_meta.dropna(subset=['gmap_id'])\n",
    "\n",
    "# Convert selected columns to string dtype\n",
    "for col in ['name','description', 'category', 'user_id', 'text', 'gmap_id']:\n",
    "    if col in reviews_data.columns:\n",
    "        reviews_data[col] = reviews_data[col].astype(str)\n",
    "\n",
    "\n",
    "# Convert $ → 1, $$ → 2, etc.\n",
    "biz_meta['price_level'] = biz_meta['price'].str.len()\n",
    "# Fill missing with 0 = unknown\n",
    "biz_meta['price_level'] = biz_meta['price_level'].fillna(0).astype('int8')\n",
    "biz_meta = biz_meta.rename(columns={'name': 'biz_name'})"
   ]
  },
  {
   "cell_type": "markdown",
   "id": "2cb3f690",
   "metadata": {},
   "source": [
    "## Data Merging\n",
    "Merge relevant columns from business metadata into reviews."
   ]
  },
  {
   "cell_type": "code",
   "execution_count": null,
   "id": "61a93ed4",
   "metadata": {},
   "outputs": [],
   "source": [
    "keep_cols = [\n",
    "    'gmap_id',        # join key\n",
    "    'biz_name',\n",
    "    'description',\n",
    "    'category',\n",
    "    'avg_rating',\n",
    "    'num_of_reviews',\n",
    "    'price_level'\n",
    "]\n",
    "\n",
    "keep_cols = [c for c in keep_cols if c in biz_meta.columns]\n",
    "biz_meta = biz_meta[keep_cols].drop_duplicates(subset=['gmap_id'])\n",
    "\n",
    "merged_reviews_data = reviews_data.merge(biz_meta, on='gmap_id', how='left')\n",
    "\n",
    "merged_reviews_data"
   ]
  },
  {
   "cell_type": "code",
   "execution_count": null,
   "id": "acc754a3",
   "metadata": {},
   "outputs": [],
   "source": [
    "print(merged_reviews_data.dtypes)"
   ]
  }
 ],
 "metadata": {
  "kernelspec": {
   "display_name": "Python 3",
   "language": "python",
   "name": "python3"
  },
  "language_info": {
   "codemirror_mode": {
    "name": "ipython",
    "version": 3
   },
   "file_extension": ".py",
   "mimetype": "text/x-python",
   "name": "python",
   "nbconvert_exporter": "python",
   "pygments_lexer": "ipython3",
   "version": "3.10.11"
  }
 },
 "nbformat": 4,
 "nbformat_minor": 5
}
