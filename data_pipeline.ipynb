{
 "cells": [
  {
   "cell_type": "markdown",
   "id": "2499f922",
   "metadata": {},
   "source": [
    "# Data Pipeline - South Dakota Business Reviews Analysis\n",
    "\n",
    "This notebook processes South Dakota business review data and metadata, performing data cleaning and preparation for analysis."
   ]
  },
  {
   "cell_type": "markdown",
   "id": "97178b71",
   "metadata": {},
   "source": [
    "## 1. Import Required Libraries\n",
    "\n",
    "Import the necessary libraries for data processing and analysis."
   ]
  },
  {
   "cell_type": "code",
   "execution_count": null,
   "id": "944a62b6",
   "metadata": {},
   "outputs": [],
   "source": [
    "import gzip, json\n",
    "import pandas as pd\n",
    "from tabulate import tabulate"
   ]
  },
  {
   "cell_type": "markdown",
   "id": "daf3684e",
   "metadata": {},
   "source": [
    "## 2. Helper Functions\n",
    "\n",
    "Define utility functions for parsing compressed JSON data."
   ]
  },
  {
   "cell_type": "code",
   "execution_count": null,
   "id": "93194164",
   "metadata": {},
   "outputs": [],
   "source": [
    "def parse(path):\n",
    "    \"\"\"Parse gzipped JSON lines file and yield JSON objects.\"\"\"\n",
    "    with gzip.open(path, \"rt\", encoding=\"utf-8\") as g:\n",
    "        for line in g:\n",
    "            yield json.loads(line)"
   ]
  },
  {
   "cell_type": "markdown",
   "id": "7071ff2f",
   "metadata": {},
   "source": [
    "## 3. Data Loading\n",
    "\n",
    "Load the review data and business metadata from compressed JSON files."
   ]
  },
  {
   "cell_type": "code",
   "execution_count": null,
   "id": "bb69fa95",
   "metadata": {},
   "outputs": [],
   "source": [
    "# Load data from compressed JSON files\n",
    "reviews_data = pd.read_json(\n",
    "    \"review_South_Dakota.json.gz\", lines=True, compression=\"gzip\"\n",
    ")  # or .json/.parquet\n",
    "biz_meta = pd.read_json(\"meta_South_Dakota.json.gz\", lines=True, compression=\"gzip\")\n",
    "\n",
    "print(f\"Reviews data shape: {reviews_data.shape}\")\n",
    "print(f\"Business metadata shape: {biz_meta.shape}\")"
   ]
  },
  {
   "cell_type": "markdown",
   "id": "9032060e",
   "metadata": {},
   "source": [
    "## 4. Data Standardization\n",
    "\n",
    "Standardize column names for consistency."
   ]
  },
  {
   "cell_type": "code",
   "execution_count": null,
   "id": "5ac23eb9",
   "metadata": {},
   "outputs": [],
   "source": [
    "# Standardize column names\n",
    "biz_meta.columns = biz_meta.columns.str.lower().str.strip()\n",
    "reviews_data.columns = reviews_data.columns.str.lower().str.strip()\n",
    "\n",
    "print(\"Reviews data columns:\", list(reviews_data.columns))\n",
    "print(\"Business metadata columns:\", list(biz_meta.columns))"
   ]
  },
  {
   "cell_type": "markdown",
   "id": "6fbfaed7",
   "metadata": {},
   "source": [
    "## 5. Data Preview\n",
    "\n",
    "Display the first few rows of both datasets to understand the data structure."
   ]
  },
  {
   "cell_type": "code",
   "execution_count": null,
   "id": "dccdbd1a",
   "metadata": {},
   "outputs": [],
   "source": [
    "print(\"\\nReviews Data Sample:\")\n",
    "print(tabulate(reviews_data.head(10), headers=\"keys\", tablefmt=\"psql\"))"
   ]
  },
  {
   "cell_type": "code",
   "execution_count": null,
   "id": "2b533718",
   "metadata": {},
   "outputs": [],
   "source": [
    "print(\"\\nBusiness Metadata Sample:\")\n",
    "print(tabulate(biz_meta.head(10), headers=\"keys\", tablefmt=\"psql\"))"
   ]
  },
  {
   "cell_type": "markdown",
   "id": "b7085c46",
   "metadata": {},
   "source": [
    "## 6. Reviews Data Cleaning\n",
    "\n",
    "Clean the reviews data by removing records with missing essential information and creating derived features."
   ]
  },
  {
   "cell_type": "code",
   "execution_count": null,
   "id": "35318ab2",
   "metadata": {},
   "outputs": [],
   "source": [
    "# Remove reviews with missing essential columns\n",
    "print(f\"Reviews before cleaning: {len(reviews_data)}\")\n",
    "reviews_data = reviews_data.dropna(subset=[\"text\", \"rating\", \"time\", \"gmap_id\", \"resp\"])\n",
    "print(f\"Reviews after cleaning: {len(reviews_data)}\")\n",
    "\n",
    "# Create boolean feature for pictures\n",
    "reviews_data[\"has_pics\"] = reviews_data[\"pics\"].notna()\n",
    "print(f\"Reviews with pictures: {reviews_data['has_pics'].sum()}\")"
   ]
  },
  {
   "cell_type": "markdown",
   "id": "13d9a13a",
   "metadata": {},
   "source": [
    "## 7. Business Metadata Cleaning\n",
    "\n",
    "Clean the business metadata and create price level features."
   ]
  },
  {
   "cell_type": "code",
   "execution_count": null,
   "id": "7b539e3e",
   "metadata": {},
   "outputs": [],
   "source": [
    "# Remove businesses without gmap_id\n",
    "print(f\"Businesses before cleaning: {len(biz_meta)}\")\n",
    "biz_meta = biz_meta.dropna(subset=[\"gmap_id\"])\n",
    "print(f\"Businesses after cleaning: {len(biz_meta)}\")\n",
    "\n",
    "# Convert price symbols to numeric levels ($ → 1, $$ → 2, etc.)\n",
    "biz_meta[\"price_level\"] = biz_meta[\"price\"].str.len()\n",
    "# Fill missing with 0 = unknown\n",
    "biz_meta[\"price_level\"] = biz_meta[\"price_level\"].fillna(0).astype(\"int8\")\n",
    "\n",
    "print(\"Price level distribution:\")\n",
    "print(biz_meta[\"price_level\"].value_counts().sort_index())"
   ]
  },
  {
   "cell_type": "markdown",
   "id": "601d81f1",
   "metadata": {},
   "source": [
    "## 8. Data Preparation for Merging\n",
    "\n",
    "Select relevant columns from business metadata for merging with reviews data."
   ]
  },
  {
   "cell_type": "code",
   "execution_count": null,
   "id": "bd358f72",
   "metadata": {},
   "outputs": [],
   "source": [
    "# Define columns to keep for merging\n",
    "keep_cols = [\n",
    "    \"gmap_id\",  # join key\n",
    "    \"name\",  # business name\n",
    "    \"category\",  # type of business\n",
    "    \"avg_rating\",  # business-level avg\n",
    "    \"num_of_reviews\",  # business popularity\n",
    "    \"latitude\",\n",
    "    \"longitude\",  # optional\n",
    "    \"state\",  # active/closed\n",
    "]\n",
    "\n",
    "# Filter to only existing columns\n",
    "keep_cols = [c for c in keep_cols if c in biz_meta.columns]\n",
    "print(f\"Columns to keep: {keep_cols}\")\n",
    "\n",
    "# Create filtered metadata dataset\n",
    "meta_small = biz_meta[keep_cols].drop_duplicates(subset=[\"gmap_id\"]).copy()\n",
    "print(f\"Unique businesses in metadata: {len(meta_small)}\")"
   ]
  },
  {
   "cell_type": "markdown",
   "id": "c718db3f",
   "metadata": {},
   "source": [
    "## 9. Data Summary\n",
    "\n",
    "Display final data shapes and basic statistics."
   ]
  },
  {
   "cell_type": "code",
   "execution_count": null,
   "id": "253a38be",
   "metadata": {},
   "outputs": [],
   "source": [
    "print(\"Final Data Summary:\")\n",
    "print(f\"- Reviews data: {reviews_data.shape}\")\n",
    "print(f\"- Business metadata: {meta_small.shape}\")\n",
    "print(f\"- Unique businesses with reviews: {reviews_data['gmap_id'].nunique()}\")\n",
    "print(f\"- Average rating: {reviews_data['rating'].mean():.2f}\")\n",
    "print(f\"- Reviews with pictures: {reviews_data['has_pics'].sum()} ({reviews_data['has_pics'].mean()*100:.1f}%)\")"
   ]
  }
 ],
 "metadata": {
  "language_info": {
   "name": "python"
  }
 },
 "nbformat": 4,
 "nbformat_minor": 5
}
