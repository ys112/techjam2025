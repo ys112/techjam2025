{
 "cells": [
  {
   "cell_type": "markdown",
   "id": "2499f922",
   "metadata": {},
   "source": [
    "# Data Pipeline - South Dakota Business Reviews Analysis\n",
    "\n",
    "This notebook processes South Dakota business review data and metadata, performing data cleaning and preparation for analysis."
   ]
  },
  {
   "cell_type": "markdown",
   "id": "97178b71",
   "metadata": {},
   "source": [
    "## 1. Import Required Libraries\n",
    "\n",
    "Import the necessary libraries for data processing and analysis."
   ]
  },
  {
   "cell_type": "code",
   "execution_count": 19,
   "id": "944a62b6",
   "metadata": {},
   "outputs": [],
   "source": [
    "import gzip, json\n",
    "import pandas as pd\n",
    "from tabulate import tabulate"
   ]
  },
  {
   "cell_type": "markdown",
   "id": "daf3684e",
   "metadata": {},
   "source": [
    "## 2. Helper Functions\n",
    "\n",
    "Define utility functions for parsing compressed JSON data."
   ]
  },
  {
   "cell_type": "code",
   "execution_count": 20,
   "id": "93194164",
   "metadata": {},
   "outputs": [],
   "source": [
    "def parse(path):\n",
    "    \"\"\"Parse gzipped JSON lines file and yield JSON objects.\"\"\"\n",
    "    with gzip.open(path, \"rt\", encoding=\"utf-8\") as g:\n",
    "        for line in g:\n",
    "            yield json.loads(line)"
   ]
  },
  {
   "cell_type": "markdown",
   "id": "7071ff2f",
   "metadata": {},
   "source": [
    "## 3. Data Loading\n",
    "\n",
    "Load the review data and business metadata from compressed JSON files."
   ]
  },
  {
   "cell_type": "code",
   "execution_count": 21,
   "id": "bb69fa95",
   "metadata": {},
   "outputs": [
    {
     "name": "stdout",
     "output_type": "stream",
     "text": [
      "Reviews data shape: (673048, 8)\n",
      "Business metadata shape: (14257, 15)\n"
     ]
    }
   ],
   "source": [
    "# Load data from compressed JSON files\n",
    "reviews_data = pd.read_json(\n",
    "    \"review_South_Dakota.json.gz\", lines=True, compression=\"gzip\"\n",
    ")  # or .json/.parquet\n",
    "biz_meta = pd.read_json(\"meta_South_Dakota.json.gz\", lines=True, compression=\"gzip\")\n",
    "\n",
    "print(f\"Reviews data shape: {reviews_data.shape}\")\n",
    "print(f\"Business metadata shape: {biz_meta.shape}\")"
   ]
  },
  {
   "cell_type": "markdown",
   "id": "9032060e",
   "metadata": {},
   "source": [
    "## 4. Data Standardization\n",
    "\n",
    "Standardize column names for consistency."
   ]
  },
  {
   "cell_type": "code",
   "execution_count": 22,
   "id": "5ac23eb9",
   "metadata": {},
   "outputs": [
    {
     "name": "stdout",
     "output_type": "stream",
     "text": [
      "Reviews data columns: ['user_id', 'name', 'time', 'rating', 'text', 'pics', 'resp', 'gmap_id']\n",
      "Business metadata columns: ['name', 'address', 'gmap_id', 'description', 'latitude', 'longitude', 'category', 'avg_rating', 'num_of_reviews', 'price', 'hours', 'misc', 'state', 'relative_results', 'url']\n"
     ]
    }
   ],
   "source": [
    "# Standardize column names\n",
    "biz_meta.columns = biz_meta.columns.str.lower().str.strip()\n",
    "reviews_data.columns = reviews_data.columns.str.lower().str.strip()\n",
    "\n",
    "print(\"Reviews data columns:\", list(reviews_data.columns))\n",
    "print(\"Business metadata columns:\", list(biz_meta.columns))"
   ]
  },
  {
   "cell_type": "markdown",
   "id": "6fbfaed7",
   "metadata": {},
   "source": [
    "## 5. Data Preview\n",
    "\n",
    "Display the first few rows of both datasets to understand the data structure."
   ]
  },
  {
   "cell_type": "code",
   "execution_count": null,
   "id": "dccdbd1a",
   "metadata": {},
   "outputs": [
    {
     "name": "stdout",
     "output_type": "stream",
     "text": [
      "\n",
      "Reviews Data Sample:\n",
      "+-----+-------------+-------------------+---------------+----------+----------------------------------------------------------------------------------------------------------------------------------------------------------------------------------------------------------------------------------------------------------------------------------------------------------------------------------------------------------------------------------------------------------------------------------------------------------------------------------------------+--------+------------------------------------------------------------------------------------------------------------------------------------------------------------------------------------------------------------------------------------------+---------------------------------------+------------+\n",
      "|     |     user_id | name              |          time |   rating | text                                                                                                                                                                                                                                                                                                                                                                                                                                                                                         | pics   | resp                                                                                                                                                                                                                                     | gmap_id                               | has_pics   |\n",
      "|-----+-------------+-------------------+---------------+----------+----------------------------------------------------------------------------------------------------------------------------------------------------------------------------------------------------------------------------------------------------------------------------------------------------------------------------------------------------------------------------------------------------------------------------------------------------------------------------------------------+--------+------------------------------------------------------------------------------------------------------------------------------------------------------------------------------------------------------------------------------------------+---------------------------------------+------------|\n",
      "| 126 | 1.0438e+20  | Paul Foster       | 1511830167959 |        5 | Good people                                                                                                                                                                                                                                                                                                                                                                                                                                                                                  |        | {'time': 1511895196172, 'text': 'Thanks Paul we try to do our best.'}                                                                                                                                                                    | 0x878f42853a3090df:0x8eaacf02c89206da | False      |\n",
      "| 148 | 1.03081e+20 | Bobbi Dunfee      | 1628000737310 |        5 | Friendly, attentive, effective... they always make a rough day go as well as possible.  The staff genuinely listen and address questions and concerns.                                                                                                                                                                                                                                                                                                                                       |        | {'time': 1628093187092, 'text': 'Monument Health strives to deliver the highest quality of patient care. We love to hear about these positive experiences. Thanks for sharing this feedback with us!'}                                   | 0x532d5b82378e5f7d:0x7ef4814032523f58 | False      |\n",
      "| 149 | 1.10268e+20 | Sonja Shoemaker   | 1574388154119 |        5 | Just spent time at the urgent care in Sturgis. The staff were wonderful from the young lady who helped wheel me in, to the gal who checked me in, to the nurse, x-ray tech and PA. Everyone was very professional, but made me feel cared for at the same time. They worked as quickly as possible to diagnose my issue and make me more comfortable. Would recommend this facility to anyone in need of urgent medical care.                                                                |        | {'time': 1574441988397, 'text': 'We love to hear about these positive experiences. Thanks for sharing this feedback with us!'}                                                                                                           | 0x532d5b82378e5f7d:0x7ef4814032523f58 | False      |\n",
      "| 150 | 1.02919e+20 | Kathy Dachtler    | 1606614405856 |        5 | The check in was quick and friendly Courtney was awesome she listened to me and was great visit                                                                                                                                                                                                                                                                                                                                                                                              |        | {'time': 1607014226845, 'text': 'Thank you for taking the time to share your experience with us!'}                                                                                                                                       | 0x532d5b82378e5f7d:0x7ef4814032523f58 | False      |\n",
      "| 151 | 1.04671e+20 | James Vande Hey   | 1604163172137 |        5 | We went to the drive up flu shot clinic and it was seamless and quick. The nurse giving our shot was very gentle :)                                                                                                                                                                                                                                                                                                                                                                          |        | {'time': 1604331433628, 'text': 'We love to hear about these positive experiences. Thanks for sharing this feedback with us!'}                                                                                                           | 0x532d5b82378e5f7d:0x7ef4814032523f58 | False      |\n",
      "| 152 | 1.10268e+20 | Sonja Shoemaker   | 1574388154119 |        5 | Just spent time at the urgent care in Sturgis. The staff were wonderful from the young lady who helped wheel me in, to the gal who checked me in, to the nurse, x-ray tech and PA. Everyone was very professional, but made me feel cared for at the same time. They worked as quickly as possible to diagnose my issue and make me more comfortable. Would recommend this facility to anyone in need of urgent medical care.                                                                |        | {'time': 1574441988397, 'text': 'We love to hear about these positive experiences. Thanks for sharing this feedback with us!'}                                                                                                           | 0x532d5b82378e5f7d:0x7ef4814032523f58 | False      |\n",
      "| 153 | 1.18368e+20 | Pamela Weidenbach | 1606179799832 |        5 | All very efficient,  compassionate,  friendly and knowledgeable!!                                                                                                                                                                                                                                                                                                                                                                                                                            |        | {'time': 1606227038918, 'text': 'Thank you for taking the time to share your experience with us!'}                                                                                                                                       | 0x532d5b82378e5f7d:0x7ef4814032523f58 | False      |\n",
      "| 154 | 1.18368e+20 | Pamela Weidenbach | 1606179799832 |        5 | All very efficient,  compassionate,  friendly and knowledgeable!!                                                                                                                                                                                                                                                                                                                                                                                                                            |        | {'time': 1606227038918, 'text': 'Thank you for taking the time to share your experience with us!'}                                                                                                                                       | 0x532d5b82378e5f7d:0x7ef4814032523f58 | False      |\n",
      "| 155 | 1.08933e+20 | Kathy Biesheuvel  | 1590170219010 |        5 | Three caregivers with friendly, reassuring, professional advice.  What a great experience.                                                                                                                                                                                                                                                                                                                                                                                                   |        | {'time': 1611618812249, 'text': 'We love to hear about these positive experiences. Thanks for sharing this feedback with us!'}                                                                                                           | 0x532d5b82378e5f7d:0x7ef4814032523f58 | False      |\n",
      "| 218 | 1.09492e+20 | Paul Schell       | 1529353759622 |        5 | Bought a pool stick. They were really nice. I would shop there more. They have a packed showroom. Hard to move around. But they have a heck of a selection.                                                                                                                                                                                                                                                                                                                                  |        | {'time': 1528630232927, 'text': 'Thank You Paul for your business, we are glad to hear you enjoyed our selection of billiard cues.  Happy shooting!'}                                                                                    | 0x877d5cce8539d9ad:0xe509f6d11147caa7 | False      |\n",
      "| 221 | 1.05428e+20 | Sandra Perovich   | 1503020697916 |        5 | Great customer service! Great selection of swimming pool supplied!                                                                                                                                                                                                                                                                                                                                                                                                                           |        | {'time': 1528630329424, 'text': 'Sandra, thank you for the great review.  We are glad to hear you are enjoying your swimming pool.  Happy swim season!'}                                                                                 | 0x877d5cce8539d9ad:0xe509f6d11147caa7 | False      |\n",
      "| 222 | 1.11311e+20 | Kermit Kennedy    | 1526996382975 |        5 | Very helpful staff                                                                                                                                                                                                                                                                                                                                                                                                                                                                           |        | {'time': 1528630280261, 'text': 'Thank You Kermit for kind review.  I agree we have a great and helpful staff.  We appreciate your business!'}                                                                                           | 0x877d5cce8539d9ad:0xe509f6d11147caa7 | False      |\n",
      "| 279 | 1.06766e+20 | Andrew Koupal     | 1579376166552 |        5 | Know what you're doing? Great selection to keep you going!  Don't know what you're doing? Super knowledgeable and friendly owner and staff ready to get you started!  Great place to get and stay healthy.  Thanks Gunnar.                                                                                                                                                                                                                                                                   |        | {'time': 1579387531854, 'text': \"Thanks for the great feedback Andrew! Happy you've been able to accomplish so much with your hard work and dedication, combined with our meal plan and supplements. Keep it going!\"}                    | 0x877d5da48da57027:0x5d972642e6f5d3e2 | False      |\n",
      "| 280 | 1.05257e+20 | Dwayne Jackson    | 1590973423609 |        5 | Great atmosphere, Gunnar and the staff are knowledgeable, very approachable. You feel like your talking to your gym buddy not a salesman. There is a wide range of supplements for healthy living or the avid bodybuilder. I have bought snacks, drinks, protein, pre workout you name it is available. Plenty of motivational challenges and competition to keep you motivated. Great place to get your supplements, motivation, or friendly knowledgeable tips for diet and fitness goals. |        | {'time': 1591045912446, 'text': \"Thanks for the great review Dwayne! We hope you're liking all the supplements you've gotten so far! See you in the gym!\"}                                                                               | 0x877d5da48da57027:0x5d972642e6f5d3e2 | False      |\n",
      "| 281 | 1.03007e+20 | Cory Sybert       | 1553628162189 |        5 | Nutrishop is the best supplement shop in town. If you want products that work and an affordable price this is the place for you.                                                                                                                                                                                                                                                                                                                                                             |        | {'time': 1553629457682, 'text': 'Thanks for the review Cory! Stop back in anytime!'}                                                                                                                                                     | 0x877d5da48da57027:0x5d972642e6f5d3e2 | False      |\n",
      "| 282 | 1.08906e+20 | Gaige Mortenson   | 1566574174082 |        5 | Some decent prices and friendly staff.                                                                                                                                                                                                                                                                                                                                                                                                                                                       |        | {'time': 1566598209662, 'text': \"Thanks for stopping in Gaige! Please let us know what you think of the Chocolate/Peanut Butter Forza Pro protein. You'll always have your UGF discount too. Hope to see you again soon! Thanks again!\"} | 0x877d5da48da57027:0x5d972642e6f5d3e2 | False      |\n",
      "| 283 | 1.09494e+20 | Drew Beaton       | 1563051776426 |        5 | Very knowledgeable and great service.                                                                                                                                                                                                                                                                                                                                                                                                                                                        |        | {'time': 1563206577255, 'text': 'Thank you Drew! We really appreciate your kind words and taking the time to give us a positive review. Look forward to seeing you again soon.'}                                                         | 0x877d5da48da57027:0x5d972642e6f5d3e2 | False      |\n",
      "| 284 | 1.11561e+20 | Rent Moore        | 1560304202446 |        5 | Very informative and helpful                                                                                                                                                                                                                                                                                                                                                                                                                                                                 |        | {'time': 1560367510017, 'text': \"Thanks Jordan! Appreciate you stopping in Nutrishop! If you have any questions at all, please don't hesitate to reach out to us!\"}                                                                      | 0x877d5da48da57027:0x5d972642e6f5d3e2 | False      |\n",
      "| 416 | 1.0438e+20  | Paul Foster       | 1511830167959 |        5 | Good people                                                                                                                                                                                                                                                                                                                                                                                                                                                                                  |        | {'time': 1511895196172, 'text': 'Thanks Paul we try to do our best.'}                                                                                                                                                                    | 0x878f42853a3090df:0x8eaacf02c89206da | False      |\n",
      "| 438 | 1.03081e+20 | Bobbi Dunfee      | 1628000737310 |        5 | Friendly, attentive, effective... they always make a rough day go as well as possible.  The staff genuinely listen and address questions and concerns.                                                                                                                                                                                                                                                                                                                                       |        | {'time': 1628093187092, 'text': 'Monument Health strives to deliver the highest quality of patient care. We love to hear about these positive experiences. Thanks for sharing this feedback with us!'}                                   | 0x532d5b82378e5f7d:0x7ef4814032523f58 | False      |\n",
      "+-----+-------------+-------------------+---------------+----------+----------------------------------------------------------------------------------------------------------------------------------------------------------------------------------------------------------------------------------------------------------------------------------------------------------------------------------------------------------------------------------------------------------------------------------------------------------------------------------------------+--------+------------------------------------------------------------------------------------------------------------------------------------------------------------------------------------------------------------------------------------------+---------------------------------------+------------+\n"
     ]
    }
   ],
   "source": [
    "print(\"\\nReviews Data Sample:\")\n",
    "print(tabulate(reviews_data.head(20).values, headers=list(reviews_data.columns), tablefmt=\"psql\"))"
   ]
  },
  {
   "cell_type": "code",
   "execution_count": null,
   "id": "2b533718",
   "metadata": {},
   "outputs": [
    {
     "name": "stdout",
     "output_type": "stream",
     "text": [
      "\n",
      "Business Metadata Sample:\n",
      "+----+--------------------------------------+--------------------------------------------------------------------------------------------+---------------------------------------+---------------+------------+-------------+---------------------------------------------------------------------------------------------+--------------+------------------+---------+------------------------------------------------------------------------------------------------------------------------------------------------------------------------------------------------+-------------------------------------------------------------------------------------------------+-----------------------+---------------------------------------------------------------------------------------------------------------------------------------------------------------------------------------------------------------+------------------------------------------------------------------------------------------------------------------+\n",
      "|    | name                                 | address                                                                                    | gmap_id                               | description   |   latitude |   longitude | category                                                                                    |   avg_rating |   num_of_reviews | price   | hours                                                                                                                                                                                          | misc                                                                                            | state                 | relative_results                                                                                                                                                                                              | url                                                                                                              |\n",
      "|----+--------------------------------------+--------------------------------------------------------------------------------------------+---------------------------------------+---------------+------------+-------------+---------------------------------------------------------------------------------------------+--------------+------------------+---------+------------------------------------------------------------------------------------------------------------------------------------------------------------------------------------------------+-------------------------------------------------------------------------------------------------+-----------------------+---------------------------------------------------------------------------------------------------------------------------------------------------------------------------------------------------------------+------------------------------------------------------------------------------------------------------------------|\n",
      "|  0 | Rapid City Obstetrics and Gynecology | Rapid City Obstetrics and Gynecology, 7236 Jordan Dr #100A, Rapid City, SD 57702           | 0x877d43e8e4fba5e7:0x6b14a31fe037c3e1 |               |    44.0146 |   -103.247  | ['Medical clinic', 'Fertility physician', 'Obstetrician-gynecologist', 'Surgeon']           |          3.9 |                8 |         | [['Thursday', '8AM–5PM'], ['Friday', '8AM–5PM'], ['Saturday', 'Closed'], ['Sunday', 'Closed'], ['Monday', '8AM–5PM'], ['Tuesday', '8AM–5PM'], ['Wednesday', '8AM–5PM']]                        | {'Accessibility': ['Wheelchair accessible entrance'], 'Planning': ['Appointments recommended']} | Opens soon ⋅ 8AM      | ['0x877d43184d2553df:0x1be151787a3bf2c0', '0x877d4351c0afb8e1:0xe3df8bc5938c87e1', '0x877d4319e335a195:0x2d96fbec1e681e2e', '0x877d4345d1d4f3f1:0x2675b1bae07e7715']                                          | https://www.google.com/maps/place//data=!4m2!3m1!1s0x877d43e8e4fba5e7:0x6b14a31fe037c3e1?authuser=-1&hl=en&gl=us |\n",
      "|  1 | Jerde Hall                           | Jerde Hall, S Lloyd St, Aberdeen, SD 57401                                                 | 0x52d244db89b809f5:0xa34e35f587826cdb |               |    45.4515 |    -98.4786 | ['University']                                                                              |          3   |                1 |         |                                                                                                                                                                                                |                                                                                                 |                       |                                                                                                                                                                                                               | https://www.google.com/maps/place//data=!4m2!3m1!1s0x52d244db89b809f5:0xa34e35f587826cdb?authuser=-1&hl=en&gl=us |\n",
      "|  2 | CRST WIC Office                      | CRST WIC Office, 16618 243rd Avenue, Eagle Butte, SD, Eagle Butte, SD 57625                | 0x532af45db8f30779:0xd9be9359f1e56178 |               |    44.9909 |   -101.24   |                                                                                             |          4.7 |                8 |         |                                                                                                                                                                                                |                                                                                                 |                       | ['0x532af4588c5f80b1:0x30071640ecb03b5', '0x532af4588c5f80b1:0x321a759730d12039', '0x532af4f81756f2a1:0x12cefb53ed5d68b8']                                                                                    | https://www.google.com/maps/place//data=!4m2!3m1!1s0x532af45db8f30779:0xd9be9359f1e56178?authuser=-1&hl=en&gl=us |\n",
      "|  3 | Valley Implement Co                  | Valley Implement Co, 13045 SD-34, Sturgis, SD 57785                                        | 0x532d44ba713277c1:0x474c2d2edc8fff43 |               |    44.4156 |   -103.438  | ['Tractor dealer']                                                                          |          4.4 |                7 |         | [['Thursday', '8AM–5PM'], ['Friday', '8AM–5PM'], ['Saturday', 'Closed'], ['Sunday', 'Closed'], ['Monday', '8AM–5PM'], ['Tuesday', '8AM–5PM'], ['Wednesday', '8AM–5PM']]                        | {'Service options': ['In-store shopping']}                                                      | Opens soon ⋅ 8AM      | ['0x53329969baf9acf1:0x7075536a6208dca8', '0x533290aab1406e51:0x7878c6415d78828e', '0x532d5c0610341c73:0xeecc082077acbc61', '0x533283ce70d615b5:0x892bbbcb7d554a80', '0x877d5b816838de1b:0xcebb5d910a16850d'] | https://www.google.com/maps/place//data=!4m2!3m1!1s0x532d44ba713277c1:0x474c2d2edc8fff43?authuser=-1&hl=en&gl=us |\n",
      "|  4 | United States Postal Service         | United States Postal Service, 121 Main St, Eagle Butte, SD 57625                           | 0x532af4f62ba8fbd7:0x948c4a91047d66db |               |    44.9967 |   -101.234  | ['Post office', 'Logistics service', 'Money order service', 'Shipping and mailing service'] |          3.6 |                5 |         | [['Thursday', '8:30–9:15AM'], ['Friday', '8:30–9:15AM'], ['Saturday', '11AM–12PM'], ['Sunday', 'Closed'], ['Monday', '8:30–9:15AM'], ['Tuesday', '8:30–9:15AM'], ['Wednesday', '8:30–9:15AM']] | {'Accessibility': ['Wheelchair accessible entrance']}                                           | Closed ⋅ Opens 8:30AM | ['0x532af4fbbb05470d:0x4b9b34c8113c9856', '0x532af4f81756f2a1:0x12cefb53ed5d68b8', '0x532af4ff298c620b:0xae53d2845b4d337e', '0x532af4f81756f2a1:0x46faa792fa6a7bb6']                                          | https://www.google.com/maps/place//data=!4m2!3m1!1s0x532af4f62ba8fbd7:0x948c4a91047d66db?authuser=-1&hl=en&gl=us |\n",
      "|  5 | Rushmore Ambulatory Surgery Center   | Rushmore Ambulatory Surgery Center, 2490, 620 Sheridan Lake Rd # 101, Rapid City, SD 57702 | 0x877d5cabe8a919ad:0x350a26ff6e0873ee |               |    44.0804 |   -103.262  | ['Surgical center']                                                                         |          4   |                1 |         |                                                                                                                                                                                                | {'Accessibility': ['Wheelchair accessible entrance'], 'Planning': ['Appointments recommended']} |                       | ['0x877d431901df27ab:0x19acf85e6212b911', '0x877d430365ed4cdb:0x8f866be59c8f5a44', '0x877d43010e463a51:0x89280fe234a9333f', '0x877d43293141fde7:0x99bb7bd1b8597e5', '0x877d43ec0420f89d:0x4cc0364f7848a5ff']  | https://www.google.com/maps/place//data=!4m2!3m1!1s0x877d5cabe8a919ad:0x350a26ff6e0873ee?authuser=-1&hl=en&gl=us |\n",
      "|  6 | Cheyenne River Health Center         | Cheyenne River Health Center, 24276 Airport Rd, Eagle Butte, SD 57625                      | 0x532af45cc1f6c30d:0x4313135505a6529e |               |    44.9918 |   -101.244  | ['Government']                                                                              |          4.2 |                8 |         | [['Thursday', '8AM–5AM'], ['Friday', '8AM–6PM'], ['Saturday', 'Closed'], ['Sunday', '11AM–6PM'], ['Monday', '8AM–5AM'], ['Tuesday', '8AM–5AM'], ['Wednesday', '8AM–5AM']]                      | {'Accessibility': ['Wheelchair accessible entrance']}                                           | Opens soon ⋅ 8AM      | ['0x532af4f8747cb31f:0x4e6c66bb52376307', '0x532af4588c5f80b1:0x2ae2ac36f948de22', '0x532af4f81756f2a1:0xf7d109f6fa0c4fe', '0x532af4f81756f2a1:0x830d3cff35bf0a6f']                                           | https://www.google.com/maps/place//data=!4m2!3m1!1s0x532af45cc1f6c30d:0x4313135505a6529e?authuser=-1&hl=en&gl=us |\n",
      "|  7 | The Cheyenne River Episcopal Mission | The Cheyenne River Episcopal Mission, 500 Main St, Eagle Butte, SD 57625                   | 0x532af4588c5f80b1:0x1a2fac65a081154b |               |    45.0038 |   -101.234  | ['Religious organization', 'Episcopal church', 'Mission']                                   |          4.6 |                1 |         |                                                                                                                                                                                                | {'Accessibility': ['Wheelchair accessible entrance']}                                           |                       | ['0x532af4f81756f2a1:0x62881eccc70c3378', '0x532af459b8fd6fcd:0xbde5bfc3624ce57b', '0x52d58206b7420203:0x745c682150234b33', '0x532af4f78f66b4df:0x5d432f9dce1222e8', '0x532af45892aea4ab:0x37a42d1b24cf8f2c'] | https://www.google.com/maps/place//data=!4m2!3m1!1s0x532af4588c5f80b1:0x1a2fac65a081154b?authuser=-1&hl=en&gl=us |\n",
      "|  8 | Cheyenne River Youth Project         | Cheyenne River Youth Project, 702 4th St, Eagle Butte, SD 57625                            | 0x532af4588c5f80b1:0x19574964b8ecd9a0 |               |    45.0048 |   -101.23   | ['Youth social services organization']                                                      |          4.5 |               35 |         | [['Thursday', '9AM–6PM'], ['Friday', '9AM–6PM'], ['Saturday', '9AM–6PM'], ['Sunday', '9AM–6PM'], ['Monday', '9AM–6PM'], ['Tuesday', '9AM–6PM'], ['Wednesday', '9AM–6PM']]                      | {'Accessibility': ['Wheelchair accessible entrance']}                                           | Closed ⋅ Opens 9AM    | ['0x532af4591ab43429:0xf80336b3927c5738', '0x532af4f900000001:0x50d1040f32f376e4', '0x532af4fc532cbdf1:0xb5b91bbd2f766874', '0x532af4588c5f80b1:0xbab48907d58a41e6']                                          | https://www.google.com/maps/place//data=!4m2!3m1!1s0x532af4588c5f80b1:0x19574964b8ecd9a0?authuser=-1&hl=en&gl=us |\n",
      "|  9 | On The Tree Church                   | On The Tree Church, Eagle Butte, SD 57625                                                  | 0x532a652e84352411:0x368586d0e7b82e7c |               |    45.1825 |   -101.075  | ['Church']                                                                                  |          5   |                1 |         |                                                                                                                                                                                                |                                                                                                 |                       | ['0x532af4f81756f2a1:0x62881eccc70c3378', '0x532af4f78f66b4df:0x5d432f9dce1222e8', '0x532af45892aea4ab:0x37a42d1b24cf8f2c', '0x532af4588c5f80b1:0x1a2fac65a081154b']                                          | https://www.google.com/maps/place//data=!4m2!3m1!1s0x532a652e84352411:0x368586d0e7b82e7c?authuser=-1&hl=en&gl=us |\n",
      "+----+--------------------------------------+--------------------------------------------------------------------------------------------+---------------------------------------+---------------+------------+-------------+---------------------------------------------------------------------------------------------+--------------+------------------+---------+------------------------------------------------------------------------------------------------------------------------------------------------------------------------------------------------+-------------------------------------------------------------------------------------------------+-----------------------+---------------------------------------------------------------------------------------------------------------------------------------------------------------------------------------------------------------+------------------------------------------------------------------------------------------------------------------+\n"
     ]
    }
   ],
   "source": [
    "print(\"\\nBusiness Metadata Sample:\")\n",
    "print(tabulate(biz_meta.head(20).values, headers=list(biz_meta.columns), tablefmt=\"psql\"))"
   ]
  },
  {
   "cell_type": "markdown",
   "id": "b7085c46",
   "metadata": {},
   "source": [
    "## 6. Reviews Data Cleaning\n",
    "\n",
    "Clean the reviews data by removing records with missing essential information and creating derived features."
   ]
  },
  {
   "cell_type": "code",
   "execution_count": null,
   "id": "35318ab2",
   "metadata": {},
   "outputs": [
    {
     "name": "stdout",
     "output_type": "stream",
     "text": [
      "\n",
      "Missing summary for reviews_data (n_rows=673048):\n"
     ]
    },
    {
     "data": {
      "text/html": [
       "<div>\n",
       "<style scoped>\n",
       "    .dataframe tbody tr th:only-of-type {\n",
       "        vertical-align: middle;\n",
       "    }\n",
       "\n",
       "    .dataframe tbody tr th {\n",
       "        vertical-align: top;\n",
       "    }\n",
       "\n",
       "    .dataframe thead th {\n",
       "        text-align: right;\n",
       "    }\n",
       "</style>\n",
       "<table border=\"1\" class=\"dataframe\">\n",
       "  <thead>\n",
       "    <tr style=\"text-align: right;\">\n",
       "      <th></th>\n",
       "      <th>missing_count</th>\n",
       "      <th>missing_pct</th>\n",
       "    </tr>\n",
       "  </thead>\n",
       "  <tbody>\n",
       "    <tr>\n",
       "      <th>pics</th>\n",
       "      <td>657233</td>\n",
       "      <td>97.65</td>\n",
       "    </tr>\n",
       "    <tr>\n",
       "      <th>resp</th>\n",
       "      <td>589840</td>\n",
       "      <td>87.64</td>\n",
       "    </tr>\n",
       "    <tr>\n",
       "      <th>text</th>\n",
       "      <td>325966</td>\n",
       "      <td>48.43</td>\n",
       "    </tr>\n",
       "    <tr>\n",
       "      <th>user_id</th>\n",
       "      <td>0</td>\n",
       "      <td>0.00</td>\n",
       "    </tr>\n",
       "    <tr>\n",
       "      <th>rating</th>\n",
       "      <td>0</td>\n",
       "      <td>0.00</td>\n",
       "    </tr>\n",
       "    <tr>\n",
       "      <th>time</th>\n",
       "      <td>0</td>\n",
       "      <td>0.00</td>\n",
       "    </tr>\n",
       "    <tr>\n",
       "      <th>name</th>\n",
       "      <td>0</td>\n",
       "      <td>0.00</td>\n",
       "    </tr>\n",
       "    <tr>\n",
       "      <th>gmap_id</th>\n",
       "      <td>0</td>\n",
       "      <td>0.00</td>\n",
       "    </tr>\n",
       "  </tbody>\n",
       "</table>\n",
       "</div>"
      ],
      "text/plain": [
       "         missing_count  missing_pct\n",
       "pics            657233        97.65\n",
       "resp            589840        87.64\n",
       "text            325966        48.43\n",
       "user_id              0         0.00\n",
       "rating               0         0.00\n",
       "time                 0         0.00\n",
       "name                 0         0.00\n",
       "gmap_id              0         0.00"
      ]
     },
     "metadata": {},
     "output_type": "display_data"
    },
    {
     "name": "stdout",
     "output_type": "stream",
     "text": [
      "Reviews before cleaning: 673048\n",
      "Reviews after cleaning: 49330\n",
      "Reviews with pictures: 1994\n"
     ]
    }
   ],
   "source": [
    "# Count missing per column\n",
    "counts = reviews_data.isna().sum()\n",
    "# Percent missing\n",
    "percent = (reviews_data.isna().mean() * 100).round(2)\n",
    "summary = pd.concat([counts.rename(\"missing_count\"), percent.rename(\"missing_pct\")], axis=1)\n",
    "summary = summary.sort_values(\"missing_count\", ascending=False)\n",
    "print(f\"\\nMissing summary for reviews_data (n_rows={len(reviews_data)}):\")\n",
    "display(summary)   # if in notebook\n",
    "\n",
    "\n",
    "# Remove reviews with missing essential columns\n",
    "print(f\"Reviews before cleaning: {len(reviews_data)}\")\n",
    "reviews_data = reviews_data.dropna(subset=[\"rating\", \"time\", \"gmap_id\"])\n",
    "print(f\"Reviews after cleaning: {len(reviews_data)}\")\n",
    "\n",
    "\n",
    "\n",
    "# Create boolean feature for pictures\n",
    "reviews_data[\"has_pics\"] = reviews_data[\"pics\"].notna()\n",
    "print(f\"Reviews with pictures: {reviews_data['has_pics'].sum()}\")"
   ]
  },
  {
   "cell_type": "markdown",
   "id": "13d9a13a",
   "metadata": {},
   "source": [
    "## 7. Business Metadata Cleaning\n",
    "\n",
    "Clean the business metadata and create price level features."
   ]
  },
  {
   "cell_type": "code",
   "execution_count": 26,
   "id": "7b539e3e",
   "metadata": {},
   "outputs": [
    {
     "name": "stdout",
     "output_type": "stream",
     "text": [
      "Businesses before cleaning: 14257\n",
      "Businesses after cleaning: 14257\n",
      "Price level distribution:\n",
      "price_level\n",
      "0    12021\n",
      "1     1147\n",
      "2     1050\n",
      "3       38\n",
      "4        1\n",
      "Name: count, dtype: int64\n"
     ]
    }
   ],
   "source": [
    "# Remove businesses without gmap_id\n",
    "print(f\"Businesses before cleaning: {len(biz_meta)}\")\n",
    "biz_meta = biz_meta.dropna(subset=[\"gmap_id\"])\n",
    "print(f\"Businesses after cleaning: {len(biz_meta)}\")\n",
    "\n",
    "# Convert price symbols to numeric levels ($ → 1, $$ → 2, etc.)\n",
    "biz_meta[\"price_level\"] = biz_meta[\"price\"].str.len()\n",
    "# Fill missing with 0 = unknown\n",
    "biz_meta[\"price_level\"] = biz_meta[\"price_level\"].fillna(0).astype(\"int8\")\n",
    "\n",
    "print(\"Price level distribution:\")\n",
    "print(biz_meta[\"price_level\"].value_counts().sort_index())"
   ]
  },
  {
   "cell_type": "markdown",
   "id": "601d81f1",
   "metadata": {},
   "source": [
    "## 8. Data Preparation for Merging\n",
    "\n",
    "Select relevant columns from business metadata for merging with reviews data."
   ]
  },
  {
   "cell_type": "code",
   "execution_count": 27,
   "id": "bd358f72",
   "metadata": {},
   "outputs": [
    {
     "name": "stdout",
     "output_type": "stream",
     "text": [
      "Columns to keep: ['gmap_id', 'name', 'category', 'avg_rating', 'num_of_reviews', 'latitude', 'longitude', 'state']\n",
      "Unique businesses in metadata: 14167\n"
     ]
    }
   ],
   "source": [
    "# Define columns to keep for merging\n",
    "keep_cols = [\n",
    "    \"gmap_id\",  # join key\n",
    "    \"name\",  # business name\n",
    "    \"category\",  # type of business\n",
    "    \"avg_rating\",  # business-level avg\n",
    "    \"num_of_reviews\",  # business popularity\n",
    "    \"latitude\",\n",
    "    \"longitude\",  # optional\n",
    "    \"state\",  # active/closed\n",
    "]\n",
    "\n",
    "# Filter to only existing columns\n",
    "keep_cols = [c for c in keep_cols if c in biz_meta.columns]\n",
    "print(f\"Columns to keep: {keep_cols}\")\n",
    "\n",
    "# Create filtered metadata dataset\n",
    "meta_small = biz_meta[keep_cols].drop_duplicates(subset=[\"gmap_id\"]).copy()\n",
    "print(f\"Unique businesses in metadata: {len(meta_small)}\")"
   ]
  },
  {
   "cell_type": "markdown",
   "id": "c718db3f",
   "metadata": {},
   "source": [
    "## 9. Data Summary\n",
    "\n",
    "Display final data shapes and basic statistics."
   ]
  },
  {
   "cell_type": "code",
   "execution_count": 28,
   "id": "253a38be",
   "metadata": {},
   "outputs": [
    {
     "name": "stdout",
     "output_type": "stream",
     "text": [
      "Final Data Summary:\n",
      "- Reviews data: (49330, 9)\n",
      "- Business metadata: (14167, 8)\n",
      "- Unique businesses with reviews: 2591\n",
      "- Average rating: 4.37\n",
      "- Reviews with pictures: 1994 (4.0%)\n"
     ]
    }
   ],
   "source": [
    "print(\"Final Data Summary:\")\n",
    "print(f\"- Reviews data: {reviews_data.shape}\")\n",
    "print(f\"- Business metadata: {meta_small.shape}\")\n",
    "print(f\"- Unique businesses with reviews: {reviews_data['gmap_id'].nunique()}\")\n",
    "print(f\"- Average rating: {reviews_data['rating'].mean():.2f}\")\n",
    "print(f\"- Reviews with pictures: {reviews_data['has_pics'].sum()} ({reviews_data['has_pics'].mean()*100:.1f}%)\")"
   ]
  },
  {
   "cell_type": "code",
   "execution_count": null,
   "id": "25f137a6",
   "metadata": {},
   "outputs": [],
   "source": []
  }
 ],
 "metadata": {
  "kernelspec": {
   "display_name": "Python 3",
   "language": "python",
   "name": "python3"
  },
  "language_info": {
   "codemirror_mode": {
    "name": "ipython",
    "version": 3
   },
   "file_extension": ".py",
   "mimetype": "text/x-python",
   "name": "python",
   "nbconvert_exporter": "python",
   "pygments_lexer": "ipython3",
   "version": "3.13.0"
  }
 },
 "nbformat": 4,
 "nbformat_minor": 5
}
