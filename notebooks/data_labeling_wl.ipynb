{
 "cells": [
  {
   "cell_type": "code",
   "execution_count": 1,
   "id": "2a0140ae",
   "metadata": {},
   "outputs": [],
   "source": [
    "import pandas as pd "
   ]
  },
  {
   "cell_type": "code",
   "execution_count": 2,
   "id": "44ff85bf",
   "metadata": {},
   "outputs": [
    {
     "data": {
      "text/html": [
       "<div>\n",
       "<style scoped>\n",
       "    .dataframe tbody tr th:only-of-type {\n",
       "        vertical-align: middle;\n",
       "    }\n",
       "\n",
       "    .dataframe tbody tr th {\n",
       "        vertical-align: top;\n",
       "    }\n",
       "\n",
       "    .dataframe thead th {\n",
       "        text-align: right;\n",
       "    }\n",
       "</style>\n",
       "<table border=\"1\" class=\"dataframe\">\n",
       "  <thead>\n",
       "    <tr style=\"text-align: right;\">\n",
       "      <th></th>\n",
       "      <th>user_id</th>\n",
       "      <th>user_name</th>\n",
       "      <th>review_time</th>\n",
       "      <th>rating</th>\n",
       "      <th>review_text</th>\n",
       "      <th>pics</th>\n",
       "      <th>resp</th>\n",
       "      <th>gmap_id</th>\n",
       "      <th>has_resp</th>\n",
       "      <th>resp_text</th>\n",
       "      <th>resp_time</th>\n",
       "      <th>biz_name</th>\n",
       "      <th>description</th>\n",
       "      <th>category</th>\n",
       "      <th>avg_rating</th>\n",
       "      <th>num_of_reviews</th>\n",
       "      <th>price_level</th>\n",
       "    </tr>\n",
       "  </thead>\n",
       "  <tbody>\n",
       "    <tr>\n",
       "      <th>0</th>\n",
       "      <td>103563353519118155776</td>\n",
       "      <td>Peri Gray</td>\n",
       "      <td>2018-01-16 17:11:15.780000+00:00</td>\n",
       "      <td>5</td>\n",
       "      <td>Great place to care for our children.</td>\n",
       "      <td>False</td>\n",
       "      <td>NaN</td>\n",
       "      <td>0x532af45db8f30779:0xd9be9359f1e56178</td>\n",
       "      <td>False</td>\n",
       "      <td>NaN</td>\n",
       "      <td>NaN</td>\n",
       "      <td>CRST WIC Office</td>\n",
       "      <td>NaN</td>\n",
       "      <td>NaN</td>\n",
       "      <td>4.7</td>\n",
       "      <td>8</td>\n",
       "      <td>0</td>\n",
       "    </tr>\n",
       "    <tr>\n",
       "      <th>1</th>\n",
       "      <td>101824980797027237888</td>\n",
       "      <td>Suzy Berndt</td>\n",
       "      <td>2018-07-30 03:45:50.314000+00:00</td>\n",
       "      <td>5</td>\n",
       "      <td>Th sw y are so nice</td>\n",
       "      <td>False</td>\n",
       "      <td>NaN</td>\n",
       "      <td>0x532af45db8f30779:0xd9be9359f1e56178</td>\n",
       "      <td>False</td>\n",
       "      <td>NaN</td>\n",
       "      <td>NaN</td>\n",
       "      <td>CRST WIC Office</td>\n",
       "      <td>NaN</td>\n",
       "      <td>NaN</td>\n",
       "      <td>4.7</td>\n",
       "      <td>8</td>\n",
       "      <td>0</td>\n",
       "    </tr>\n",
       "    <tr>\n",
       "      <th>2</th>\n",
       "      <td>108711640480272777216</td>\n",
       "      <td>Rosemary Red Legs</td>\n",
       "      <td>2018-07-07 13:11:33.932000+00:00</td>\n",
       "      <td>5</td>\n",
       "      <td>Went with my daughter</td>\n",
       "      <td>False</td>\n",
       "      <td>NaN</td>\n",
       "      <td>0x532af45db8f30779:0xd9be9359f1e56178</td>\n",
       "      <td>False</td>\n",
       "      <td>NaN</td>\n",
       "      <td>NaN</td>\n",
       "      <td>CRST WIC Office</td>\n",
       "      <td>NaN</td>\n",
       "      <td>NaN</td>\n",
       "      <td>4.7</td>\n",
       "      <td>8</td>\n",
       "      <td>0</td>\n",
       "    </tr>\n",
       "    <tr>\n",
       "      <th>3</th>\n",
       "      <td>101852294221648461824</td>\n",
       "      <td>Brown Wolf</td>\n",
       "      <td>2018-09-16 08:13:55.922000+00:00</td>\n",
       "      <td>2</td>\n",
       "      <td>NaN</td>\n",
       "      <td>False</td>\n",
       "      <td>NaN</td>\n",
       "      <td>0x532af45db8f30779:0xd9be9359f1e56178</td>\n",
       "      <td>False</td>\n",
       "      <td>NaN</td>\n",
       "      <td>NaN</td>\n",
       "      <td>CRST WIC Office</td>\n",
       "      <td>NaN</td>\n",
       "      <td>NaN</td>\n",
       "      <td>4.7</td>\n",
       "      <td>8</td>\n",
       "      <td>0</td>\n",
       "    </tr>\n",
       "    <tr>\n",
       "      <th>4</th>\n",
       "      <td>108987444312280645632</td>\n",
       "      <td>C J Blue Coat</td>\n",
       "      <td>2016-09-26 20:39:35.491000+00:00</td>\n",
       "      <td>5</td>\n",
       "      <td>NaN</td>\n",
       "      <td>False</td>\n",
       "      <td>NaN</td>\n",
       "      <td>0x532af45db8f30779:0xd9be9359f1e56178</td>\n",
       "      <td>False</td>\n",
       "      <td>NaN</td>\n",
       "      <td>NaN</td>\n",
       "      <td>CRST WIC Office</td>\n",
       "      <td>NaN</td>\n",
       "      <td>NaN</td>\n",
       "      <td>4.7</td>\n",
       "      <td>8</td>\n",
       "      <td>0</td>\n",
       "    </tr>\n",
       "  </tbody>\n",
       "</table>\n",
       "</div>"
      ],
      "text/plain": [
       "                 user_id          user_name                       review_time  \\\n",
       "0  103563353519118155776          Peri Gray  2018-01-16 17:11:15.780000+00:00   \n",
       "1  101824980797027237888        Suzy Berndt  2018-07-30 03:45:50.314000+00:00   \n",
       "2  108711640480272777216  Rosemary Red Legs  2018-07-07 13:11:33.932000+00:00   \n",
       "3  101852294221648461824         Brown Wolf  2018-09-16 08:13:55.922000+00:00   \n",
       "4  108987444312280645632      C J Blue Coat  2016-09-26 20:39:35.491000+00:00   \n",
       "\n",
       "   rating                            review_text   pics resp  \\\n",
       "0       5  Great place to care for our children.  False  NaN   \n",
       "1       5                    Th sw y are so nice  False  NaN   \n",
       "2       5                  Went with my daughter  False  NaN   \n",
       "3       2                                    NaN  False  NaN   \n",
       "4       5                                    NaN  False  NaN   \n",
       "\n",
       "                                 gmap_id  has_resp resp_text resp_time  \\\n",
       "0  0x532af45db8f30779:0xd9be9359f1e56178     False       NaN       NaN   \n",
       "1  0x532af45db8f30779:0xd9be9359f1e56178     False       NaN       NaN   \n",
       "2  0x532af45db8f30779:0xd9be9359f1e56178     False       NaN       NaN   \n",
       "3  0x532af45db8f30779:0xd9be9359f1e56178     False       NaN       NaN   \n",
       "4  0x532af45db8f30779:0xd9be9359f1e56178     False       NaN       NaN   \n",
       "\n",
       "          biz_name description category  avg_rating  num_of_reviews  \\\n",
       "0  CRST WIC Office         NaN      NaN         4.7               8   \n",
       "1  CRST WIC Office         NaN      NaN         4.7               8   \n",
       "2  CRST WIC Office         NaN      NaN         4.7               8   \n",
       "3  CRST WIC Office         NaN      NaN         4.7               8   \n",
       "4  CRST WIC Office         NaN      NaN         4.7               8   \n",
       "\n",
       "   price_level  \n",
       "0            0  \n",
       "1            0  \n",
       "2            0  \n",
       "3            0  \n",
       "4            0  "
      ]
     },
     "execution_count": 2,
     "metadata": {},
     "output_type": "execute_result"
    }
   ],
   "source": [
    "reviews_df = pd.read_csv('../data/cleaned_reviews_data.csv')\n",
    "reviews_df.head()\n"
   ]
  },
  {
   "cell_type": "code",
   "execution_count": 3,
   "id": "316037a2",
   "metadata": {},
   "outputs": [
    {
     "data": {
      "text/plain": [
       "(673048, 17)"
      ]
     },
     "execution_count": 3,
     "metadata": {},
     "output_type": "execute_result"
    }
   ],
   "source": [
    "reviews_df.shape"
   ]
  },
  {
   "cell_type": "code",
   "execution_count": 4,
   "id": "65545227",
   "metadata": {},
   "outputs": [
    {
     "data": {
      "text/plain": [
       "Index(['user_id', 'user_name', 'review_time', 'rating', 'review_text', 'pics',\n",
       "       'resp', 'gmap_id', 'has_resp', 'resp_text', 'resp_time', 'biz_name',\n",
       "       'description', 'category', 'avg_rating', 'num_of_reviews',\n",
       "       'price_level'],\n",
       "      dtype='object')"
      ]
     },
     "execution_count": 4,
     "metadata": {},
     "output_type": "execute_result"
    }
   ],
   "source": [
    "reviews_df.columns"
   ]
  }
 ],
 "metadata": {
  "kernelspec": {
   "display_name": "Python 3",
   "language": "python",
   "name": "python3"
  },
  "language_info": {
   "codemirror_mode": {
    "name": "ipython",
    "version": 3
   },
   "file_extension": ".py",
   "mimetype": "text/x-python",
   "name": "python",
   "nbconvert_exporter": "python",
   "pygments_lexer": "ipython3",
   "version": "3.13.0"
  }
 },
 "nbformat": 4,
 "nbformat_minor": 5
}
